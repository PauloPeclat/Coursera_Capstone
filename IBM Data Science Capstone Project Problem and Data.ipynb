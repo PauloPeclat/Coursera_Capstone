{
    "cells": [
        {
            "cell_type": "markdown",
            "metadata": {
                "collapsed": true
            },
            "source": "# IBM Data Science Capstone Project Problem Definition and Data"
        },
        {
            "cell_type": "markdown",
            "metadata": {},
            "source": "## Problem definition"
        },
        {
            "cell_type": "markdown",
            "metadata": {},
            "source": "#### A theoretical business problem was chosen for this project. The question to be answered is the following.\n\n     A successful owner of multiple mid to high-end restaurants decided to open a new restaurant in S\u00e3o Paulo, Brazil. Having visited the city many times in recent yearsm he couldn't disregard the big boom in gastronomy. He is keen on opening a new unit, which will focus on the Italian kitchen.\n     Taking in account the price level at which the restaurants will operate, the intent is to find an optimal location in an aream where gastronomy is booming and which is easily accessible for tourists and for weaslthier local citizens as well.\n\n## Assumptions, business logic\n\n    The assumption behind the analysis is that we can use unsupervised machine learning to create cluesters of districts that will provide us with a lista of areas for consideration for the restaurant. The intent is that the restaurant to be situated close to one of the gastronomical centres.\n    \n## Data\n\n    To perform this analysis, we will need the following data:\n    \n    1. Lis of the districts of S\u00e3o Paulo\n    2. Geo-coordinates of the districts in S\u00e3o Paulo\n    3. Top venues of districts.\n    \n    Lis of district will be obtained from wikipedia:                     "
        },
        {
            "cell_type": "markdown",
            "metadata": {},
            "source": "        https://pt.wikipedia.org/wiki/Lista_dos_distritos_de_S\u00e3o_Paulo_por_popula\u00e7\u00e3o"
        },
        {
            "cell_type": "markdown",
            "metadata": {},
            "source": "\n    Geo-coordinates of districts will be obtained with the help of the geocoder tool in the notebook.\n    Top venues data will be obtained from Foursquare through an API.\n\n## Use of Data and Methodology\n\n    After tidyinf up and exploring the data, we will apply the K-means machine learning technique for creating cluster of districts. We will use the silhouette score for choosing the optimal number of clusters."
        },
        {
            "cell_type": "code",
            "execution_count": null,
            "metadata": {},
            "outputs": [],
            "source": ""
        }
    ],
    "metadata": {
        "kernelspec": {
            "display_name": "Python 3.7",
            "language": "python",
            "name": "python3"
        },
        "language_info": {
            "codemirror_mode": {
                "name": "ipython",
                "version": 3
            },
            "file_extension": ".py",
            "mimetype": "text/x-python",
            "name": "python",
            "nbconvert_exporter": "python",
            "pygments_lexer": "ipython3",
            "version": "3.7.10"
        }
    },
    "nbformat": 4,
    "nbformat_minor": 1
}